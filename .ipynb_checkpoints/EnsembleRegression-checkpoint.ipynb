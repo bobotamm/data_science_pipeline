{
 "cells": [
  {
   "cell_type": "code",
   "execution_count": 1,
   "id": "9f283804-bb03-421b-b2fd-ab1b5f9a33f5",
   "metadata": {},
   "outputs": [],
   "source": [
    "import pandas as pd\n",
    "from sklearn import preprocessing\n",
    "from sklearn.model_selection import cross_val_score\n",
    "from sklearn.ensemble import GradientBoostingRegressor\n",
    "from sklearn.ensemble import RandomForestRegressor\n",
    "from sklearn.model_selection import GridSearchCV\n",
    "from sklearn.model_selection import train_test_split"
   ]
  },
  {
   "cell_type": "markdown",
   "id": "e6fed6fe-3f8d-478d-be97-68ff44377826",
   "metadata": {},
   "source": [
    "## Preprocessing Data with Min-Max Scaling"
   ]
  },
  {
   "cell_type": "code",
   "execution_count": 2,
   "id": "5f02a26b-70a6-4e95-b8dd-a959a3c5727e",
   "metadata": {},
   "outputs": [],
   "source": [
    "df = pd.read_csv(\"master.csv\")\n",
    "df['GDP'] = df['gdp_for_year ($)'].str.replace(\",\", \"\")\n",
    "df['GDP'] = df['GDP'].astype(int)\n",
    "df = df.drop(\"HDI for year\", 1)\n",
    "df = df.drop(\"gdp_for_year ($)\", 1)\n",
    "df['GDP_per_capita'] = df['gdp_per_capita ($)']\n",
    "df = df.drop(\"gdp_per_capita ($)\", 1)\n",
    "data_df = df[['year','sex','age','GDP', 'GDP_per_capita', 'generation']]"
   ]
  },
  {
   "cell_type": "code",
   "execution_count": 3,
   "id": "ba95601a-4345-4352-9cee-5d7813267cfe",
   "metadata": {},
   "outputs": [],
   "source": [
    "min_max_scaler = preprocessing.MinMaxScaler()\n",
    "X = data_df\n",
    "Y = df['suicides/100k pop']\n",
    "X = min_max_scaler.fit_transform(X)"
   ]
  },
  {
   "cell_type": "code",
   "execution_count": 4,
   "id": "cc336a06-38cb-48b1-bbd4-de855a03b133",
   "metadata": {},
   "outputs": [
    {
     "name": "stdout",
     "output_type": "stream",
     "text": [
      "[[6.45161290e-02 0.00000000e+00 2.00000000e-01 1.16425365e-04\n",
      "  4.32193242e-03 6.00000000e-01]\n",
      " [6.45161290e-02 0.00000000e+00 6.00000000e-01 1.16425365e-04\n",
      "  4.32193242e-03 2.00000000e-01]\n",
      " [6.45161290e-02 1.00000000e+00 2.00000000e-01 1.16425365e-04\n",
      "  4.32193242e-03 6.00000000e-01]\n",
      " ...\n",
      " [9.35483871e-01 0.00000000e+00 0.00000000e+00 3.47780561e-03\n",
      "  1.63202512e-02 1.00000000e+00]\n",
      " [9.35483871e-01 1.00000000e+00 0.00000000e+00 3.47780561e-03\n",
      "  1.63202512e-02 1.00000000e+00]\n",
      " [9.35483871e-01 1.00000000e+00 8.00000000e-01 3.47780561e-03\n",
      "  1.63202512e-02 4.00000000e-01]]\n"
     ]
    }
   ],
   "source": [
    "print(X)"
   ]
  },
  {
   "cell_type": "markdown",
   "id": "a24e5307-e812-44c1-80f5-332216b9c3fc",
   "metadata": {},
   "source": [
    "## Gradient Boosting  Regression Tree"
   ]
  },
  {
   "cell_type": "code",
   "execution_count": 5,
   "id": "ee29ac0c-66c2-4679-9d26-10b198fc5dd2",
   "metadata": {},
   "outputs": [
    {
     "name": "stdout",
     "output_type": "stream",
     "text": [
      "0.31174067930621796\n"
     ]
    }
   ],
   "source": [
    "GBmodel = GradientBoostingRegressor()\n",
    "GBscore = cross_val_score(GBmodel, X, Y, cv=5, scoring='r2').mean()\n",
    "print(GBscore)"
   ]
  },
  {
   "cell_type": "code",
   "execution_count": 6,
   "id": "1fb2dacf-b44e-4bd6-887f-87c7415d4c42",
   "metadata": {},
   "outputs": [],
   "source": [
    "parameters = {\n",
    "    'learning_rate': [0.1, 0.3, 0.6, 0.9],\n",
    "    'n_estimators': [50, 100, 150],\n",
    "    'max_depth': [3,4,5],\n",
    "}"
   ]
  },
  {
   "cell_type": "code",
   "execution_count": 7,
   "id": "81a6ef23-c569-4211-9b19-98def54ef9b3",
   "metadata": {},
   "outputs": [],
   "source": [
    "X_train, X_test, Y_train, Y_test = train_test_split(X, Y, train_size= 0.8)"
   ]
  },
  {
   "cell_type": "code",
   "execution_count": 10,
   "id": "608bc63f-4a0a-4e3c-a830-c6028c9537a0",
   "metadata": {},
   "outputs": [],
   "source": [
    "GBT_model = GridSearchCV(GradientBoostingRegressor(), parameters, scoring='r2', cv=5)\n",
    "GBT_model.fit(X_train, Y_train)"
   ]
  },
  {
   "cell_type": "code",
   "execution_count": 14,
   "id": "8bc4834b-4b8d-411b-97fe-8f785f4845e3",
   "metadata": {},
   "outputs": [],
   "source": [
    "train_score_GBT = GBT_model.score(X_train, Y_train)\n",
    "test_score_GBT = GBT_model.score(X_test, Y_test)"
   ]
  },
  {
   "cell_type": "code",
   "execution_count": 15,
   "id": "692cccbb-1616-49a8-8841-9e76b6558731",
   "metadata": {},
   "outputs": [
    {
     "name": "stdout",
     "output_type": "stream",
     "text": [
      "0.8619027966484294 0.650426034326294\n"
     ]
    }
   ],
   "source": [
    "print(train_score_GBT, test_score_GBT)"
   ]
  },
  {
   "cell_type": "code",
   "execution_count": 16,
   "id": "7304b91a-4724-4a24-9a8e-1f58d4f69c34",
   "metadata": {},
   "outputs": [
    {
     "data": {
      "text/plain": [
       "(0.6423416720459013,\n",
       " {'learning_rate': 0.6, 'max_depth': 5, 'n_estimators': 150})"
      ]
     },
     "execution_count": 16,
     "metadata": {},
     "output_type": "execute_result"
    }
   ],
   "source": [
    "GBT_model.best_score_, GBT_model.best_params_"
   ]
  },
  {
   "cell_type": "markdown",
   "id": "ba10c78a-05bc-4be6-9768-a2da115e2b10",
   "metadata": {},
   "source": [
    "## Random Forest"
   ]
  },
  {
   "cell_type": "code",
   "execution_count": 17,
   "id": "6eaa1842-a75e-404a-af08-1a42a951eddd",
   "metadata": {},
   "outputs": [],
   "source": [
    "parameters = {\n",
    "    'min_samples_split': [2, 3, 4],\n",
    "    'n_estimators': [50, 100, 150],\n",
    "    'min_samples_leaf': [1, 2, 3],\n",
    "}"
   ]
  },
  {
   "cell_type": "code",
   "execution_count": null,
   "id": "32fd5557-20ed-44b3-bf1e-9cbada1b8030",
   "metadata": {},
   "outputs": [],
   "source": [
    "forest = RandomForestRegressor()\n",
    "forest_model = GridSearchCV(forest, parameters , scoring=\"r2\", cv=5)\n",
    "forest_model.fit(X_train, Y_train)"
   ]
  },
  {
   "cell_type": "code",
   "execution_count": null,
   "id": "d67b8d1d-5259-49a9-b2d8-685d1f3297cd",
   "metadata": {},
   "outputs": [],
   "source": [
    "train_score_forest = forest_model.score(X_train, Y_train)\n",
    "test_score_forest = forest_model.score(X_test, Y_test)\n",
    "print(train_score_forest, test_score_forest)"
   ]
  },
  {
   "cell_type": "code",
   "execution_count": null,
   "id": "bc01bd0f-5278-4cd1-b98e-defdfb369d32",
   "metadata": {},
   "outputs": [],
   "source": [
    "forest_model.best_score_, forest_model.best_params_"
   ]
  },
  {
   "cell_type": "code",
   "execution_count": null,
   "id": "7ab78464-b2db-473c-a8aa-1e0e4f05e9bd",
   "metadata": {},
   "outputs": [],
   "source": []
  }
 ],
 "metadata": {
  "kernelspec": {
   "display_name": "Python 3",
   "language": "python",
   "name": "python3"
  },
  "language_info": {
   "codemirror_mode": {
    "name": "ipython",
    "version": 3
   },
   "file_extension": ".py",
   "mimetype": "text/x-python",
   "name": "python",
   "nbconvert_exporter": "python",
   "pygments_lexer": "ipython3",
   "version": "3.8.8"
  }
 },
 "nbformat": 4,
 "nbformat_minor": 5
}
