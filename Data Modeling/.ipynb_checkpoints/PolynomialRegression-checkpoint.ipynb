{
 "cells": [
  {
   "cell_type": "code",
   "execution_count": 3,
   "id": "386e88cb-6334-4817-bb7c-03b375d714cd",
   "metadata": {},
   "outputs": [],
   "source": [
    "from sklearn import preprocessing\n",
    "import pandas as pd\n",
    "from sklearn.preprocessing import PolynomialFeatures\n",
    "from sklearn.linear_model import LinearRegression\n",
    "from sklearn.model_selection import cross_val_score\n",
    "from sklearn.preprocessing import PolynomialFeatures\n",
    "from sklearn.linear_model import SGDRegressor\n",
    "from sklearn.model_selection import cross_val_score\n",
    "from sklearn.model_selection import GridSearchCV"
   ]
  },
  {
   "cell_type": "markdown",
   "id": "c9ee7ebf-a9c0-4455-8408-e75ac5b67d3f",
   "metadata": {},
   "source": [
    "## Preprocessing Data with Min-Max Scaling"
   ]
  },
  {
   "cell_type": "code",
   "execution_count": 5,
   "id": "f0773c0b-30ed-4629-ad37-10d60f042895",
   "metadata": {},
   "outputs": [],
   "source": [
    "df = pd.read_csv(\"master.csv\")\n",
    "df['GDP'] = df['gdp_for_year ($)'].str.replace(\",\", \"\")\n",
    "df['GDP'] = df['GDP'].astype('int64')\n",
    "df = df.drop(\"HDI for year\", 1)\n",
    "df = df.drop(\"gdp_for_year ($)\", 1)\n",
    "df['GDP_per_capita'] = df['gdp_per_capita ($)']\n",
    "df = df.drop(\"gdp_per_capita ($)\", 1)\n",
    "data_df = df[['year','sex','age','GDP', 'GDP_per_capita', 'generation']]\n",
    "min_max_scaler = preprocessing.MinMaxScaler()\n",
    "X = data_df\n",
    "y = df['suicides/100k pop']\n",
    "X_minmax = min_max_scaler.fit_transform(X)"
   ]
  },
  {
   "cell_type": "code",
   "execution_count": 6,
   "id": "b3cce58c-6404-4843-957d-e438db34ee48",
   "metadata": {},
   "outputs": [
    {
     "name": "stdout",
     "output_type": "stream",
     "text": [
      "Best combination:  {'fit_intercept': True, 'n_jobs': 0, 'normalize': True}\n",
      "Performance:  0.23033694167025268\n",
      "CVP:  0.2969969270021437\n"
     ]
    }
   ],
   "source": [
    "poly = PolynomialFeatures(degree=2)\n",
    "X_poly = poly.fit_transform(X_minmax)\n",
    "poly_model = LinearRegression()\n",
    "parameters = {'fit_intercept': [True, False], 'normalize': [True, False], 'n_jobs': [0,1,2,5]}\n",
    "gsp_model = GridSearchCV(poly_model, parameters,scoring='r2')\n",
    "gsp_model.fit(X_poly, y)\n",
    "print(\"Best combination: \", gsp_model.best_params_)\n",
    "print(\"Performance: \", gsp_model.best_score_)\n",
    "poly_model = LinearRegression(fit_intercept= True, n_jobs= 0, normalize= True)\n",
    "poly_model.fit(X_poly, y)\n",
    "CVP = cross_val_score(poly_model, X_poly, y, cv=3,scoring='r2')\n",
    "print(\"CVP: \", CVP.mean())"
   ]
  },
  {
   "cell_type": "code",
   "execution_count": 7,
   "id": "abc857d5-fce5-446e-9c52-df38bd2314d2",
   "metadata": {},
   "outputs": [
    {
     "name": "stdout",
     "output_type": "stream",
     "text": [
      "Best combination:  {'fit_intercept': False, 'loss': 'epsilon_insensitive', 'penalty': 'l1'}\n",
      "Performance:  0.27508510120007684\n",
      "CVS:  0.2719772118330209\n"
     ]
    }
   ],
   "source": [
    "SGD_model = SGDRegressor()\n",
    "parameters = {'loss': [ 'huber', 'epsilon_insensitive'], 'penalty': ['l2', 'l1', 'elasticnet'],'fit_intercept': [True, False]}\n",
    "gss_model = GridSearchCV(SGD_model, parameters,scoring='r2')\n",
    "gss_model.fit(X_poly, y)\n",
    "print(\"Best combination: \", gss_model.best_params_)\n",
    "print(\"Performance: \", gss_model.best_score_)\n",
    "\n",
    "SGD_model = SGDRegressor(fit_intercept= True, loss= 'epsilon_insensitive', penalty= 'l1')\n",
    "SGD_model.fit(X_poly, y)\n",
    "CVS = cross_val_score(SGD_model, X_poly, y, cv=3,scoring='r2')\n",
    "print(\"CVS: \", CVS.mean())"
   ]
  },
  {
   "cell_type": "code",
   "execution_count": null,
   "id": "dda8e443-ba68-4757-99e8-7c6d3de1176c",
   "metadata": {},
   "outputs": [],
   "source": []
  }
 ],
 "metadata": {
  "kernelspec": {
   "display_name": "Python 3",
   "language": "python",
   "name": "python3"
  },
  "language_info": {
   "codemirror_mode": {
    "name": "ipython",
    "version": 3
   },
   "file_extension": ".py",
   "mimetype": "text/x-python",
   "name": "python",
   "nbconvert_exporter": "python",
   "pygments_lexer": "ipython3",
   "version": "3.8.8"
  }
 },
 "nbformat": 4,
 "nbformat_minor": 5
}
