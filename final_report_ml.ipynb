{
 "cells": [
  {
   "cell_type": "code",
   "execution_count": 2,
   "id": "9f283804-bb03-421b-b2fd-ab1b5f9a33f5",
   "metadata": {},
   "outputs": [],
   "source": [
    "import pandas as pd\n",
    "from sklearn import preprocessing\n",
    "from sklearn.model_selection import cross_val_score\n",
    "from sklearn.ensemble import GradientBoostingRegressor\n",
    "from sklearn.linear_model import LinearRegression\n",
    "from sklearn.model_selection import GridSearchCV\n",
    "from sklearn.model_selection import train_test_split\n",
    "from sklearn.svm import SVR"
   ]
  },
  {
   "cell_type": "markdown",
   "id": "e6fed6fe-3f8d-478d-be97-68ff44377826",
   "metadata": {},
   "source": [
    "## Preprocessing Data with Min-Max Scaling"
   ]
  },
  {
   "cell_type": "code",
   "execution_count": 9,
   "id": "5f02a26b-70a6-4e95-b8dd-a959a3c5727e",
   "metadata": {},
   "outputs": [],
   "source": [
    "df = pd.read_csv(\"master.csv\")\n",
    "df['GDP'] = df['gdp_for_year ($)'].str.replace(\",\", \"\")\n",
    "df['GDP'] = df['GDP'].astype(int)\n",
    "df = df.drop(\"HDI for year\", 1)\n",
    "df = df.drop(\"gdp_for_year ($)\", 1)\n",
    "df['GDP_per_capita'] = df['gdp_per_capita ($)']\n",
    "df = df.drop(\"gdp_per_capita ($)\", 1)\n",
    "data_df = df[['year','sex','age','GDP', 'GDP_per_capita', 'generation']]"
   ]
  },
  {
   "cell_type": "code",
   "execution_count": 10,
   "id": "ba95601a-4345-4352-9cee-5d7813267cfe",
   "metadata": {},
   "outputs": [],
   "source": [
    "min_max_scaler = preprocessing.MinMaxScaler()\n",
    "X = data_df\n",
    "Y = df['suicides/100k pop']\n",
    "X = min_max_scaler.fit_transform(X)"
   ]
  },
  {
   "cell_type": "code",
   "execution_count": 13,
   "id": "cc336a06-38cb-48b1-bbd4-de855a03b133",
   "metadata": {},
   "outputs": [
    {
     "name": "stdout",
     "output_type": "stream",
     "text": [
      "[[0.  0.2 0.6]\n",
      " [0.  0.6 0.2]\n",
      " [1.  0.2 0.6]\n",
      " ...\n",
      " [0.  0.  1. ]\n",
      " [1.  0.  1. ]\n",
      " [1.  0.8 0.4]]\n"
     ]
    }
   ],
   "source": [
    "print(X)"
   ]
  },
  {
   "cell_type": "markdown",
   "id": "a24e5307-e812-44c1-80f5-332216b9c3fc",
   "metadata": {},
   "source": [
    "## Gradient Boosting  Regression Tree"
   ]
  },
  {
   "cell_type": "code",
   "execution_count": 13,
   "id": "189ee487-a4d1-4cd6-aae4-98e12b24a133",
   "metadata": {},
   "outputs": [],
   "source": [
    "LRmodel = LinearRegression()\n",
    "GBmodel = GradientBoostingRegressor()\n",
    "LRscore = cross_val_score(LRmodel, X, Y, cv=5, scoring='r2').mean()\n",
    "GBscore = cross_val_score(GBmodel, X, Y, cv=5, scoring='r2').mean()"
   ]
  },
  {
   "cell_type": "code",
   "execution_count": 14,
   "id": "a0d86150-e4b1-4a0d-b893-5e744f6b86d6",
   "metadata": {},
   "outputs": [
    {
     "name": "stdout",
     "output_type": "stream",
     "text": [
      "0.2488158890689375 0.3118119142327881\n"
     ]
    }
   ],
   "source": [
    "print(LRscore, GBscore)"
   ]
  },
  {
   "cell_type": "code",
   "execution_count": 23,
   "id": "81517997-6489-4083-a2e6-b537cddc3d7d",
   "metadata": {},
   "outputs": [],
   "source": [
    "parameters = {\n",
    "    'learning_rate': [0.1, 0.3, 0.6, 0.9],\n",
    "    'n_estimators': [50, 100, 150],\n",
    "    'max_depth': [3,4,5],\n",
    "}"
   ]
  },
  {
   "cell_type": "code",
   "execution_count": 24,
   "id": "c9a12a03-28ed-4bc0-ad02-c5e03c6ca618",
   "metadata": {},
   "outputs": [],
   "source": [
    "X_train, X_test, Y_train, Y_test = train_test_split(X, Y, train_size= 0.8)\n",
    "gs_model = GridSearchCV(GradientBoostingRegressor(), parameters, scoring='r2')\n",
    "gs_model.fit(X_train, Y_train)\n",
    "test_score = gs_model.score(X_test, Y_test)"
   ]
  },
  {
   "cell_type": "code",
   "execution_count": 25,
   "id": "692cccbb-1616-49a8-8841-9e76b6558731",
   "metadata": {},
   "outputs": [
    {
     "name": "stdout",
     "output_type": "stream",
     "text": [
      "0.6607802506839299\n"
     ]
    }
   ],
   "source": [
    "print(test_score)"
   ]
  },
  {
   "cell_type": "code",
   "execution_count": 26,
   "id": "7304b91a-4724-4a24-9a8e-1f58d4f69c34",
   "metadata": {},
   "outputs": [
    {
     "data": {
      "text/plain": [
       "(0.6413954656691987,\n",
       " {'learning_rate': 0.3, 'max_depth': 5, 'n_estimators': 150})"
      ]
     },
     "execution_count": 26,
     "metadata": {},
     "output_type": "execute_result"
    }
   ],
   "source": [
    "gs_model.best_score_, gs_model.best_params_"
   ]
  },
  {
   "cell_type": "markdown",
   "id": "182d4865-1582-4d3e-8551-de47d13130e1",
   "metadata": {},
   "source": [
    "## Support Vector Machine"
   ]
  },
  {
   "cell_type": "code",
   "execution_count": 20,
   "id": "3a6d4e6f-ea98-4e6d-be7c-3f8ea481b5bd",
   "metadata": {},
   "outputs": [],
   "source": [
    "from sklearn.svm import SVR\n",
    "from sklearn.preprocessing import StandardScaler"
   ]
  },
  {
   "cell_type": "code",
   "execution_count": 21,
   "id": "9ee75bee-7a9a-4667-80d0-d339e0284671",
   "metadata": {},
   "outputs": [
    {
     "name": "stdout",
     "output_type": "stream",
     "text": [
      "0.29353593323710403\n"
     ]
    }
   ],
   "source": [
    "SVRmodel = SVR()\n",
    "SVRscore = cross_val_score(SVRmodel, X, Y, cv=5, scoring='r2').mean()\n",
    "print(SVRscore)"
   ]
  },
  {
   "cell_type": "code",
   "execution_count": 22,
   "id": "0233a466-a20c-49f8-80a7-73a8bc6b660b",
   "metadata": {},
   "outputs": [],
   "source": [
    "parameters = {\n",
    "    'kernel': ['linear', 'poly', 'rbf'],\n",
    "    'degree': [1, 2, 3],\n",
    "    'C': [1, 2,3],\n",
    "    'shrinking': [True, False],\n",
    "}"
   ]
  },
  {
   "cell_type": "code",
   "execution_count": 23,
   "id": "3f733bab-4a74-429e-9f95-be71e310bdcd",
   "metadata": {},
   "outputs": [],
   "source": [
    "X_train, X_test, Y_train, Y_test = train_test_split(X, Y, train_size= 0.8)\n",
    "gs_model = GridSearchCV(SVR(), parameters, scoring='r2')\n",
    "gs_model.fit(X_train, Y_train)\n",
    "test_score = gs_model.score(X_test, Y_test)"
   ]
  },
  {
   "cell_type": "code",
   "execution_count": 38,
   "id": "f5067803-e3d6-4d4d-88b5-4259731d477c",
   "metadata": {},
   "outputs": [],
   "source": [
    "train_score = gs_model.score(X_train, Y_train)"
   ]
  },
  {
   "cell_type": "code",
   "execution_count": 39,
   "id": "806e8cd2-b7f7-44db-8765-7b7ba4a7f02c",
   "metadata": {},
   "outputs": [
    {
     "name": "stdout",
     "output_type": "stream",
     "text": [
      "0.6607802506839299 0.7636672916775298\n"
     ]
    }
   ],
   "source": [
    "print(test_score, train_score)"
   ]
  },
  {
   "cell_type": "code",
   "execution_count": 25,
   "id": "2b339265-4497-4f3c-95e4-247ce334eaf6",
   "metadata": {},
   "outputs": [
    {
     "data": {
      "text/plain": [
       "(0.30046370943831285,\n",
       " {'C': 3, 'degree': 1, 'kernel': 'rbf', 'shrinking': False})"
      ]
     },
     "execution_count": 25,
     "metadata": {},
     "output_type": "execute_result"
    }
   ],
   "source": [
    "gs_model.best_score_, gs_model.best_params_"
   ]
  },
  {
   "cell_type": "markdown",
   "id": "5f128fbd-abcd-4534-9ce8-c28f7aa2e52c",
   "metadata": {},
   "source": [
    "## KNN"
   ]
  },
  {
   "cell_type": "code",
   "execution_count": 27,
   "id": "6cc44aba-38a0-4acb-aa1d-8b37559d142b",
   "metadata": {},
   "outputs": [],
   "source": [
    "from sklearn.neighbors import KNeighborsRegressor\n",
    "X_train, X_test, Y_train, Y_test = train_test_split(X, Y, train_size= 0.8)\n",
    "knn = KNeighborsRegressor()\n",
    "param_grid = {'n_neighbors':list(range(1, 31)), 'weights': ['uniform', 'distance']}\n",
    "knn_grid = GridSearchCV(knn, param_grid , cv=10)\n",
    "knn_grid.fit(X_train, Y_train)\n",
    "acc_train_knn = knn_grid.score(X_train, Y_train) \n",
    "acc_test_knn = knn_grid.score(X_test, Y_test)"
   ]
  },
  {
   "cell_type": "code",
   "execution_count": 28,
   "id": "1e49702c-f5fb-47cc-8052-2da0c837abba",
   "metadata": {},
   "outputs": [
    {
     "name": "stdout",
     "output_type": "stream",
     "text": [
      "0.4153739608039003 0.39530057773900973\n"
     ]
    }
   ],
   "source": [
    "print(acc_train_knn, acc_test_knn)"
   ]
  },
  {
   "cell_type": "markdown",
   "id": "ba10c78a-05bc-4be6-9768-a2da115e2b10",
   "metadata": {},
   "source": [
    "## Random Forest"
   ]
  },
  {
   "cell_type": "code",
   "execution_count": 36,
   "id": "85c0c2a5-8216-4f38-b835-6df070f1d5fc",
   "metadata": {},
   "outputs": [
    {
     "name": "stdout",
     "output_type": "stream",
     "text": [
      "0.956510245495714 0.7180535591991948\n"
     ]
    }
   ],
   "source": [
    "from sklearn.ensemble import RandomForestRegressor\n",
    "parameters = {\n",
    "    'min_samples_split': [2, 3, 4],\n",
    "    'n_estimators': [50, 100, 150],\n",
    "    'min_samples_leaf': [1, 2, 3],\n",
    "}\n",
    "\n",
    "forest = RandomForestRegressor()\n",
    "forest_grid = GridSearchCV(forest, parameters , scoring=\"r2\", cv=5)\n",
    "forest_grid.fit(X_train, Y_train)\n",
    "acc_train_forest = forest_grid.score(X_train, Y_train)\n",
    "acc_test_forest = forest_grid.score(X_test, Y_test)\n",
    "print(acc_train_forest, acc_test_forest)"
   ]
  },
  {
   "cell_type": "code",
   "execution_count": 37,
   "id": "bc01bd0f-5278-4cd1-b98e-defdfb369d32",
   "metadata": {},
   "outputs": [
    {
     "data": {
      "text/plain": [
       "(0.6563396348903822,\n",
       " {'min_samples_leaf': 1, 'min_samples_split': 2, 'n_estimators': 150})"
      ]
     },
     "execution_count": 37,
     "metadata": {},
     "output_type": "execute_result"
    }
   ],
   "source": [
    "forest_grid.best_score_, forest_grid.best_params_"
   ]
  },
  {
   "cell_type": "code",
   "execution_count": null,
   "id": "7ab78464-b2db-473c-a8aa-1e0e4f05e9bd",
   "metadata": {},
   "outputs": [],
   "source": []
  }
 ],
 "metadata": {
  "kernelspec": {
   "display_name": "Python 3",
   "language": "python",
   "name": "python3"
  },
  "language_info": {
   "codemirror_mode": {
    "name": "ipython",
    "version": 3
   },
   "file_extension": ".py",
   "mimetype": "text/x-python",
   "name": "python",
   "nbconvert_exporter": "python",
   "pygments_lexer": "ipython3",
   "version": "3.8.8"
  }
 },
 "nbformat": 4,
 "nbformat_minor": 5
}
