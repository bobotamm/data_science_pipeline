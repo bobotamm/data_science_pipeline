{
 "cells": [
  {
   "cell_type": "code",
   "execution_count": 96,
   "id": "255f647a-d975-4238-82b2-2d0fa4e55c6c",
   "metadata": {},
   "outputs": [],
   "source": [
    "from sklearn import preprocessing\n",
    "import pandas as pd\n",
    "import warnings\n",
    "warnings.filterwarnings('ignore')\n",
    "df = pd.read_csv(\"processed_master.csv\")\n",
    "df['GDP'] = df['gdp_for_year ($)'].str.replace(\",\", \"\")\n",
    "df['GDP'] = df['GDP'].astype(int)\n",
    "df = df.drop(\"HDI for year\", 1)\n",
    "df = df.drop(\"gdp_for_year ($)\", 1)\n",
    "df['GDP_per_capita'] = df['gdp_per_capita ($)']\n",
    "df = df.drop(\"gdp_per_capita ($)\", 1)\n",
    "data_df = df[['year','sex','age','GDP', 'GDP_per_capita', 'generation']]\n",
    "min_max_scaler = preprocessing.MinMaxScaler()\n",
    "X = data_df\n",
    "Y = df['suicides/100k pop']\n",
    "X_minmax = min_max_scaler.fit_transform(X)"
   ]
  },
  {
   "cell_type": "code",
   "execution_count": 101,
   "id": "d33fb05e-1b4f-4e7e-9977-3e230ec7f0f2",
   "metadata": {},
   "outputs": [
    {
     "name": "stdout",
     "output_type": "stream",
     "text": [
      "linear score:  0.2828079029655106\n",
      "linear_cv score:  0.271701878079013\n"
     ]
    }
   ],
   "source": [
    "from sklearn.linear_model import LinearRegression\n",
    "from sklearn.model_selection import cross_val_score\n",
    "from sklearn.model_selection import train_test_split\n",
    "\n",
    "X_train, X_test, y_train, y_test = train_test_split(X_minmax,Y,test_size=0.2)\n",
    "linear_model = LinearRegression()\n",
    "\n",
    "linear_fit = linear_model.fit(X_train, y_train)\n",
    "linear_score = linear_model.score(X_test, y_test)\n",
    "linear_cv = cross_val_score(linear_fit, X_minmax, Y, cv=3)\n",
    "print(\"linear score: \",linear_score)\n",
    "print(\"linear_cv score: \",linear_cv.mean())"
   ]
  },
  {
   "cell_type": "code",
   "execution_count": 105,
   "id": "f4525da7-37ad-426f-955a-7a9825b36225",
   "metadata": {},
   "outputs": [
    {
     "name": "stdout",
     "output_type": "stream",
     "text": [
      "best score:  0.2883271307552202\n",
      "best parameters:  {'fit_intercept': True, 'n_jobs': 3, 'normalize': True}\n"
     ]
    }
   ],
   "source": [
    "from sklearn.model_selection import GridSearchCV\n",
    "linear_model = LinearRegression()\n",
    "parameters = {'fit_intercept':[True, False], 'normalize':[True, False], 'n_jobs': [3,4]}\n",
    "clf = GridSearchCV(linear_model, parameters)\n",
    "clf.fit(X_train, y_train)\n",
    "resutl = clf.cv_results_\n",
    "best_score = clf.best_score_\n",
    "best_param = clf.best_params_\n",
    "print(\"best score: \", best_score)\n",
    "print(\"best parameters: \", best_param)"
   ]
  },
  {
   "cell_type": "code",
   "execution_count": null,
   "id": "414d809e-fa2d-4a21-8913-171daf6fa219",
   "metadata": {},
   "outputs": [],
   "source": []
  }
 ],
 "metadata": {
  "kernelspec": {
   "display_name": "Python 3",
   "language": "python",
   "name": "python3"
  },
  "language_info": {
   "codemirror_mode": {
    "name": "ipython",
    "version": 3
   },
   "file_extension": ".py",
   "mimetype": "text/x-python",
   "name": "python",
   "nbconvert_exporter": "python",
   "pygments_lexer": "ipython3",
   "version": "3.8.5"
  }
 },
 "nbformat": 4,
 "nbformat_minor": 5
}
